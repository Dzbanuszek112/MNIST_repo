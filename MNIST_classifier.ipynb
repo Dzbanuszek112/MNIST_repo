{
 "cells": [
  {
   "cell_type": "markdown",
   "id": "da014fa9-c3bd-4068-93aa-e5f5634c5c22",
   "metadata": {},
   "source": [
    "# Neural network classifier for the classical MNIST handwritten digits database.\n",
    "Built with PyTorch Framework to classify handwritten digits from 0 to 9."
   ]
  },
  {
   "cell_type": "markdown",
   "id": "98f5cb42-0625-4aee-bd04-0dc19c211eb9",
   "metadata": {
    "tags": []
   },
   "source": [
    "## Packages"
   ]
  },
  {
   "cell_type": "code",
   "execution_count": 49,
   "id": "b4fcf709-9078-49d6-9c94-fee5b42b7e10",
   "metadata": {},
   "outputs": [],
   "source": [
    "import torch\n",
    "import torch.nn as nn\n",
    "import torchvision\n",
    "import torchvision.transforms as transforms\n",
    "import matplotlib.pyplot as plt"
   ]
  },
  {
   "cell_type": "markdown",
   "id": "2b7eb7d7-a23b-42ea-8242-419cb944aa9b",
   "metadata": {
    "tags": []
   },
   "source": [
    "## Device configuration and hyper parameters"
   ]
  },
  {
   "cell_type": "code",
   "execution_count": 50,
   "id": "10621b9b-ead3-417d-b1ea-562dd78e8f8d",
   "metadata": {},
   "outputs": [],
   "source": [
    "# torch.cuda.is_available()\n",
    "# I am using GPU acceleration:\n",
    "device = torch.device('cuda')"
   ]
  },
  {
   "cell_type": "code",
   "execution_count": 51,
   "id": "283a40a5-cbe5-4205-9db1-585fa1ee04bd",
   "metadata": {},
   "outputs": [],
   "source": [
    "# Hyper parameters setting:\n",
    "input_size = 784 # 28x28\n",
    "hidden_size = 100\n",
    "num_classes = 10\n",
    "num_epochs = 2\n",
    "batch_size = 128\n",
    "learning_rate = 0.001"
   ]
  },
  {
   "cell_type": "markdown",
   "id": "8d8d11f0-988e-417d-84f2-8023a1a42679",
   "metadata": {
    "tags": []
   },
   "source": [
    "## Data preparation"
   ]
  },
  {
   "cell_type": "markdown",
   "id": "e807e62c-8ade-42c8-9f48-a68d61ef1e03",
   "metadata": {
    "tags": []
   },
   "source": [
    "### MNIST dataset downloading"
   ]
  },
  {
   "cell_type": "code",
   "execution_count": 52,
   "id": "a61edaa5-7750-4ab6-b6ba-e8d62efcd9c1",
   "metadata": {},
   "outputs": [],
   "source": [
    "train_dataset = torchvision.datasets.MNIST(root='./data', train=True, transform=transforms.ToTensor(), download=True)\n",
    "test_dataset = torchvision.datasets.MNIST(root='./data', train=False, transform=transforms.ToTensor())"
   ]
  },
  {
   "cell_type": "code",
   "execution_count": 53,
   "id": "b24efc68-e2b3-4f9d-92e2-191b8913dfce",
   "metadata": {},
   "outputs": [],
   "source": [
    "train_loader = torch.utils.data.DataLoader(dataset=train_dataset, batch_size=batch_size, shuffle=True)\n",
    "test_loader = torch.utils.data.DataLoader(dataset=test_dataset, batch_size=batch_size, shuffle=False)"
   ]
  },
  {
   "cell_type": "markdown",
   "id": "6e1b1aae-9d7f-42fc-a7a1-5a0fa340bb09",
   "metadata": {},
   "source": [
    "`DataLoader()` method takes dataset, splits examples into mini-batches and shuffle it. It returns iterable object consisting of mini-batches."
   ]
  },
  {
   "cell_type": "code",
   "execution_count": 54,
   "id": "a24d0d44-85c1-4ec3-b323-29790098cf86",
   "metadata": {},
   "outputs": [],
   "source": [
    "# Creating iterator for the train_loader object:\n",
    "mini_batches = iter(train_loader)"
   ]
  },
  {
   "cell_type": "code",
   "execution_count": 55,
   "id": "1899d5d2-4122-404b-b119-1200e69a67e3",
   "metadata": {},
   "outputs": [
    {
     "name": "stdout",
     "output_type": "stream",
     "text": [
      "Mini-batch shape is: torch.Size([128, 1, 28, 28])\n",
      "Labels shape is: torch.Size([128])\n"
     ]
    }
   ],
   "source": [
    "# Taking one mini_batch from the mini_batches:\n",
    "mini_batch, labels = mini_batches.next()\n",
    "print(f\"Mini-batch shape is: {mini_batch.shape}\")\n",
    "print(f\"Labels shape is: {labels.shape}\")"
   ]
  },
  {
   "cell_type": "markdown",
   "id": "f5912c58-8fea-4ed2-b867-09b55d4e1ba9",
   "metadata": {
    "tags": []
   },
   "source": [
    "### Visualisation of exemplary handwritten digits"
   ]
  },
  {
   "cell_type": "code",
   "execution_count": 56,
   "id": "5c984af9-cb54-4c01-ac82-565f46900eed",
   "metadata": {},
   "outputs": [
    {
     "data": {
      "image/png": "[encoded data removed]",
      "text/plain": [
       "<Figure size 432x288 with 6 Axes>"
      ]
     },
     "metadata": {
      "needs_background": "light"
     },
     "output_type": "display_data"
    }
   ],
   "source": [
    "for i in range(6):\n",
    "    plt.subplot(2, 3, i+1)\n",
    "    plt.imshow(mini_batch[i][0], cmap='gray')"
   ]
  },
  {
   "cell_type": "markdown",
   "id": "bab5e4bf-d9de-43a5-b873-e9ff39cbe29a",
   "metadata": {},
   "source": [
    "## Model building"
   ]
  },
  {
   "cell_type": "code",
   "execution_count": 57,
   "id": "4756e602-5910-4635-919d-9bed8233813d",
   "metadata": {},
   "outputs": [],
   "source": [
    "class NeuralNet(nn.Module):\n",
    "    def __init__(self, input_size, hidden_size, num_classes):\n",
    "        super(NeuralNet, self).__init__()\n",
    "        self.l1 = nn.Linear(input_size, hidden_size)\n",
    "        self.relu = nn.ReLU()\n",
    "        self.l2 = nn.Linear(hidden_size, num_classes)\n",
    "        \n",
    "    def forward(self, x):\n",
    "        out = self.l1(x)\n",
    "        out = self.relu(out)\n",
    "        out = self.l2(out)\n",
    "        return out"
   ]
  },
  {
   "cell_type": "code",
   "execution_count": 58,
   "id": "ee488ab2-335a-4391-992d-dd61ed50eebb",
   "metadata": {},
   "outputs": [],
   "source": [
    "# Instantiating model\n",
    "model = NeuralNet(input_size, hidden_size, num_classes).to(device)"
   ]
  },
  {
   "cell_type": "code",
   "execution_count": 59,
   "id": "43f1d521-3182-44c4-ad93-91513865bc98",
   "metadata": {},
   "outputs": [],
   "source": [
    "# Creating loss and optimizer\n",
    "criterion = nn.CrossEntropyLoss()\n",
    "optimizer = torch.optim.Adam(model.parameters(), lr=learning_rate)"
   ]
  },
  {
   "cell_type": "markdown",
   "id": "f3f6568a-acfb-4788-bf5f-9b75ee2a74cc",
   "metadata": {},
   "source": [
    "## Training Loop"
   ]
  },
  {
   "cell_type": "code",
   "execution_count": 60,
   "id": "f8a6619b-cc63-4420-b1a6-8cfea81a9f34",
   "metadata": {},
   "outputs": [
    {
     "name": "stdout",
     "output_type": "stream",
     "text": [
      "Epoch 1/2, step 100/469, loss = 0.4635\n",
      "Epoch 1/2, step 200/469, loss = 0.2602\n",
      "Epoch 1/2, step 300/469, loss = 0.3160\n",
      "Epoch 1/2, step 400/469, loss = 0.2871\n",
      "Epoch 2/2, step 100/469, loss = 0.1698\n",
      "Epoch 2/2, step 200/469, loss = 0.2820\n",
      "Epoch 2/2, step 300/469, loss = 0.3220\n",
      "Epoch 2/2, step 400/469, loss = 0.1771\n"
     ]
    }
   ],
   "source": [
    "n_total_steps = len(train_loader) # number of mini-batches\n",
    "for epoch in range(num_epochs):\n",
    "    for i, (images, labels) in enumerate(train_loader):\n",
    "        # Reshaping mini-batch and pushing it to the device:\n",
    "        images = images.reshape(-1, 28*28).to(device)\n",
    "        labels = labels.to(device)\n",
    "        \n",
    "        # Forward step\n",
    "        outputs = model(images)\n",
    "        loss = criterion(outputs, labels)\n",
    "        \n",
    "        # Backward step\n",
    "        optimizer.zero_grad()\n",
    "        loss.backward()\n",
    "        optimizer.step()\n",
    "        \n",
    "        if (i+1) % 100 == 0:\n",
    "            print(f\"Epoch {epoch+1}/{num_epochs}, step {i+1}/{n_total_steps}, loss = {loss.item():.4f}\")    "
   ]
  },
  {
   "cell_type": "markdown",
   "id": "3e3c5b53-638b-495f-8139-c6f8da2c0e78",
   "metadata": {},
   "source": [
    "## Test"
   ]
  },
  {
   "cell_type": "code",
   "execution_count": 64,
   "id": "e2ebc019-dda3-4b29-a62e-795808f1748c",
   "metadata": {},
   "outputs": [
    {
     "name": "stdout",
     "output_type": "stream",
     "text": [
      "Accuracy = 95.2\n"
     ]
    }
   ],
   "source": [
    "with torch.no_grad():\n",
    "    n_correct = 0\n",
    "    n_samples = 0\n",
    "    for images, labels in test_loader:\n",
    "        images = images.reshape(-1, 28*28).to(device)\n",
    "        labels = labels.to(device)\n",
    "        outputs = model(images)\n",
    "        _, predictions = torch.max(outputs, 1) # torch.max() method returns tupple: (value, indices)\n",
    "        n_samples += labels.shape[0]\n",
    "        n_correct += (predictions == labels).sum().item()\n",
    "    accuracy = 100.0 * n_correct/n_samples\n",
    "    print(f'Accuracy = {accuracy}')"
   ]
  },
  {
   "cell_type": "code",
   "execution_count": null,
   "id": "4213b1fb-d718-4c77-82ab-6f1aaf25bb36",
   "metadata": {},
   "outputs": [],
   "source": []
  }
 ],
 "metadata": {
  "kernelspec": {
   "display_name": "Python 3",
   "language": "python",
   "name": "python3"
  },
  "language_info": {
   "codemirror_mode": {
    "name": "ipython",
    "version": 3
   },
   "file_extension": ".py",
   "mimetype": "text/x-python",
   "name": "python",
   "nbconvert_exporter": "python",
   "pygments_lexer": "ipython3",
   "version": "3.6.8"
  }
 },
 "nbformat": 4,
 "nbformat_minor": 5
}
